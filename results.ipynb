{
 "cells": [
  {
   "cell_type": "code",
   "execution_count": null,
   "metadata": {
    "executionInfo": {
     "elapsed": 9,
     "status": "ok",
     "timestamp": 1748971783603,
     "user": {
      "displayName": "Juan Pablo Perez Vargas",
      "userId": "11361655634266533980"
     },
     "user_tz": 300
    },
    "id": "0XyIyd0J2Pa9"
   },
   "outputs": [],
   "source": [
    "from pathlib import Path\n",
    "BASE_DIR     = Path('/content/drive/MyDrive/structure')\n",
    "\n",
    "def init_environment(forzar_drive=False):\n",
    "  from google.colab import drive\n",
    "  drive.mount('/content/drive', force_remount=forzar_drive)\n",
    "  MODELS_DIR   = BASE_DIR / 'models'\n",
    "  import sys\n",
    "  sys.path.append(str(MODELS_DIR))\n",
    "  sys.path.append(str(BASE_DIR))\n",
    "\n",
    "\n",
    "init_environment(forzar_drive=True)\n",
    "\n",
    "exp_name = \"< EXP >\"\n",
    "\n",
    "# Análisis\n",
    "from utils.analysis.analysis_rep import ExperimentRepAnalyzer\n",
    "analyzer = ExperimentRepAnalyzer(\n",
    "    cfg=load_config(exp_name)\n",
    ")\n",
    "\n",
    "analyzer.show_dashboard(confidence=0.95) # Dahsboard con todas las gráficas"
   ]
  }
 ],
 "metadata": {
  "colab": {
   "provenance": []
  },
  "kernelspec": {
   "display_name": "Python 3",
   "name": "python3"
  },
  "language_info": {
   "name": "python"
  }
 },
 "nbformat": 4,
 "nbformat_minor": 0
}
